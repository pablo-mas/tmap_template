{
 "cells": [
  {
   "cell_type": "code",
   "execution_count": 1,
   "metadata": {},
   "outputs": [],
   "source": [
    "# Linear algebra\n",
    "import pandas as pd\n",
    "import numpy as np\n",
    "\n",
    "# Viz\n",
    "import matplotlib.pyplot as plt\n",
    "import tmap as tm\n",
    "from faerun import Faerun \n",
    "\n",
    "# Math\n",
    "from mhfp.encoder import MHFPEncoder "
   ]
  },
  {
   "cell_type": "markdown",
   "metadata": {},
   "source": [
    "## Loading data\n",
    "\n",
    "3 datasets are available (small, medium and large). Each dataset contains a SMILES series + 4 features (2 numericals and 2 categoricals)"
   ]
  },
  {
   "cell_type": "code",
   "execution_count": 2,
   "metadata": {},
   "outputs": [],
   "source": [
    "df = pd.read_csv('../data/medium.csv')"
   ]
  },
  {
   "cell_type": "code",
   "execution_count": 3,
   "metadata": {},
   "outputs": [
    {
     "data": {
      "text/html": [
       "<div>\n",
       "<style scoped>\n",
       "    .dataframe tbody tr th:only-of-type {\n",
       "        vertical-align: middle;\n",
       "    }\n",
       "\n",
       "    .dataframe tbody tr th {\n",
       "        vertical-align: top;\n",
       "    }\n",
       "\n",
       "    .dataframe thead th {\n",
       "        text-align: right;\n",
       "    }\n",
       "</style>\n",
       "<table border=\"1\" class=\"dataframe\">\n",
       "  <thead>\n",
       "    <tr style=\"text-align: right;\">\n",
       "      <th></th>\n",
       "      <th>SMILES</th>\n",
       "      <th>Y1</th>\n",
       "      <th>Y2</th>\n",
       "      <th>Y3</th>\n",
       "      <th>Y4</th>\n",
       "    </tr>\n",
       "  </thead>\n",
       "  <tbody>\n",
       "    <tr>\n",
       "      <th>0</th>\n",
       "      <td>Oc1cc(O)c2c(c1)OC(c1ccc(O)c(O)c1)C(O)C2</td>\n",
       "      <td>-6.22</td>\n",
       "      <td>-8.493732</td>\n",
       "      <td>0</td>\n",
       "      <td>2</td>\n",
       "    </tr>\n",
       "    <tr>\n",
       "      <th>1</th>\n",
       "      <td>C/C=C\\C#CCC/C=C\\C=C\\C(=O)NCC(C)C</td>\n",
       "      <td>-3.86</td>\n",
       "      <td>-8.579567</td>\n",
       "      <td>0</td>\n",
       "      <td>2</td>\n",
       "    </tr>\n",
       "    <tr>\n",
       "      <th>2</th>\n",
       "      <td>COc1ccc2c3c1O[C@H]1[C@@H](O)C=C[C@H]4[C@@H](C2...</td>\n",
       "      <td>-4.09</td>\n",
       "      <td>-5.331233</td>\n",
       "      <td>1</td>\n",
       "      <td>1</td>\n",
       "    </tr>\n",
       "    <tr>\n",
       "      <th>3</th>\n",
       "      <td>C#C[C@]1(O)CC[C@H]2[C@@H]3CCC4=Cc5oncc5C[C@]4(...</td>\n",
       "      <td>-4.84</td>\n",
       "      <td>-11.412527</td>\n",
       "      <td>0</td>\n",
       "      <td>1</td>\n",
       "    </tr>\n",
       "    <tr>\n",
       "      <th>4</th>\n",
       "      <td>C[C@@H]1C[C@H]2[C@@H]3CCC4=CC(=O)C=C[C@]4(C)[C...</td>\n",
       "      <td>-6.12</td>\n",
       "      <td>-13.274081</td>\n",
       "      <td>0</td>\n",
       "      <td>4</td>\n",
       "    </tr>\n",
       "  </tbody>\n",
       "</table>\n",
       "</div>"
      ],
      "text/plain": [
       "                                              SMILES    Y1         Y2  Y3  Y4\n",
       "0            Oc1cc(O)c2c(c1)OC(c1ccc(O)c(O)c1)C(O)C2 -6.22  -8.493732   0   2\n",
       "1                   C/C=C\\C#CCC/C=C\\C=C\\C(=O)NCC(C)C -3.86  -8.579567   0   2\n",
       "2  COc1ccc2c3c1O[C@H]1[C@@H](O)C=C[C@H]4[C@@H](C2... -4.09  -5.331233   1   1\n",
       "3  C#C[C@]1(O)CC[C@H]2[C@@H]3CCC4=Cc5oncc5C[C@]4(... -4.84 -11.412527   0   1\n",
       "4  C[C@@H]1C[C@H]2[C@@H]3CCC4=CC(=O)C=C[C@]4(C)[C... -6.12 -13.274081   0   4"
      ]
     },
     "execution_count": 3,
     "metadata": {},
     "output_type": "execute_result"
    }
   ],
   "source": [
    "df.head()"
   ]
  },
  {
   "cell_type": "markdown",
   "metadata": {},
   "source": [
    "## TMAP\n",
    "\n",
    "Code for classic TMAP (from https://github.com/reymond-group/tmap)"
   ]
  },
  {
   "cell_type": "code",
   "execution_count": 4,
   "metadata": {},
   "outputs": [],
   "source": [
    "# Create labels (shown below the 2D representation of moelcules when you select one)\n",
    "\n",
    "labels = []\n",
    "for i, smiles in enumerate(df['SMILES'].values):\n",
    "    labels.append(\n",
    "        f\"{smiles}\" +\n",
    "        f\"__Y1 : {df['Y1'].values[i]}\" +\n",
    "        f\"__Y2 : {df['Y2'].values[i]}\" +\n",
    "        f\"__Y3 : {df['Y3'].values[i]}\" +\n",
    "        f\"__Y4 : {df['Y4'].values[i]}\"\n",
    "    )"
   ]
  },
  {
   "cell_type": "code",
   "execution_count": 5,
   "metadata": {},
   "outputs": [
    {
     "data": {
      "text/html": [
       "\n",
       "        <iframe\n",
       "            width=\"100%\"\n",
       "            height=\"0\"\n",
       "            src=\"./tmap.html\"\n",
       "            frameborder=\"0\"\n",
       "            allowfullscreen\n",
       "            \n",
       "        ></iframe>\n",
       "        "
      ],
      "text/plain": [
       "<IPython.lib.display.IFrame at 0x7f52f2415eb0>"
      ]
     },
     "metadata": {},
     "output_type": "display_data"
    },
    {
     "data": {
      "text/html": [
       "<a href='./tmap.html' target='_blank'>./tmap.html</a><br>"
      ],
      "text/plain": [
       "/groups/idd/I0549447/code/github/tmap_template/notebook/tmap.html"
      ]
     },
     "metadata": {},
     "output_type": "display_data"
    }
   ],
   "source": [
    "enc = MHFPEncoder()\n",
    "lf = tm.LSHForest(2048, 128)\n",
    "\n",
    "# The number of permutations used by the MinHashing algorithm\n",
    "perm = 512\n",
    "\n",
    "# Initializing the MHFP encoder with 512 permutations\n",
    "enc = MHFPEncoder(perm)\n",
    "\n",
    "# Initialize the LSH Forest\n",
    "lf = tm.LSHForest(perm)\n",
    "\n",
    "# Create MHFP fingerprints from SMILES\n",
    "# The fingerprint vectors have to be of the tm.VectorUint data type\n",
    "fingerprints = [tm.VectorUint(enc.encode(s)) for s in df['SMILES']]\n",
    "\n",
    "# Add the Fingerprints to the LSH Forest and index\n",
    "lf.batch_add(fingerprints)\n",
    "lf.index()\n",
    "\n",
    "# Get the coordinates\n",
    "x, y, s, t, _ = tm.layout_from_lsh_forest(lf)\n",
    "\n",
    "# Now plot the data\n",
    "faerun = Faerun(view=\"front\", coords=False)\n",
    "\n",
    "faerun.add_scatter(\n",
    "    \"Assay\",\n",
    "    {\"x\": x, \n",
    "    \"y\": y, \n",
    "    \"c\": [df['Y1'].values, df['Y2'].values, df['Y3'].values, df['Y4'].values], \n",
    "    \"labels\": labels\n",
    "    },\n",
    "    shader=\"smoothCircle\",\n",
    "    point_scale=5,\n",
    "    max_point_size=20,\n",
    "    colormap=[\"coolwarm\", \"viridis\", \"tab10\", \"Set1\"],\n",
    "    has_legend=True,\n",
    "    categorical=[False, False, True, True],\n",
    "    # legend_labels=[(\"SMILES\"), (\"pIC50b\")],\n",
    "    series_title=[\"Y1\", \"Y2\", \"Y3\", \"Y4\"],\n",
    ")\n",
    "\n",
    "\n",
    "faerun.add_tree(\"Assay_tree\", {\"from\": s, \"to\": t}, point_helper=\"Assay\")\n",
    "\n",
    "# Choose the \"smiles\" template to display structure on hover\n",
    "faerun.plot(\"tmap\", template='smiles', notebook_height=0)\n"
   ]
  },
  {
   "cell_type": "markdown",
   "metadata": {},
   "source": [
    "## Matplotlib TMAP (fixed image)"
   ]
  },
  {
   "cell_type": "code",
   "execution_count": 6,
   "metadata": {},
   "outputs": [],
   "source": [
    "enc = MHFPEncoder()\n",
    "lf = tm.LSHForest(2048, 128)\n",
    "\n",
    "# The number of permutations used by the MinHashing algorithm\n",
    "perm = 512\n",
    "\n",
    "# Initializing the MHFP encoder with 512 permutations\n",
    "enc = MHFPEncoder()\n",
    "\n",
    "# Initialize the LSH Forest\n",
    "lf = tm.LSHForest()\n",
    "\n",
    "# Create MHFP fingerprints from SMILES\n",
    "# The fingerprint vectors have to be of the tm.VectorUint data type\n",
    "fingerprints = [tm.VectorUint(enc.encode(s)) for s in df['SMILES']]\n",
    "\n",
    "# Add the Fingerprints to the LSH Forest and index\n",
    "lf.batch_add(fingerprints)\n",
    "lf.index()\n",
    "\n",
    "# Get the coordinates\n",
    "x, y, s, t, _ = tm.layout_from_lsh_forest(lf)\n",
    " \n",
    "x = np.array(x)\n",
    "y = np.array(y)"
   ]
  },
  {
   "cell_type": "code",
   "execution_count": 7,
   "metadata": {},
   "outputs": [
    {
     "data": {
      "text/plain": [
       "<matplotlib.collections.PathCollection at 0x7f52f1b01cd0>"
      ]
     },
     "execution_count": 7,
     "metadata": {},
     "output_type": "execute_result"
    },
    {
     "data": {
      "image/png": "[encoded data removed]",
      "text/plain": [
       "<Figure size 800x600 with 1 Axes>"
      ]
     },
     "metadata": {},
     "output_type": "display_data"
    }
   ],
   "source": [
    "# Matplotlib part, uses edges defined by LSHForest\n",
    "\n",
    "edges = []\n",
    "for i, (a, b) in enumerate(zip(s, t)):\n",
    "    edges.append((a, b))\n",
    "    \n",
    "plt.figure(figsize=(8, 6))  # Set the figure size as needed\n",
    "ax = plt.gca()\n",
    "\n",
    "# Plot edges\n",
    "for edge in edges:\n",
    "    start_node = edge[0]\n",
    "    end_node = edge[1]\n",
    "    ax.plot([x[start_node], x[end_node]], [y[start_node], y[end_node]], c='black', alpha=0.5)\n",
    "\n",
    "ax.scatter(x, y, c='b', s=3)"
   ]
  },
  {
   "cell_type": "markdown",
   "metadata": {},
   "source": [
    "## Matplotlib TMAP (chronological data) + video"
   ]
  },
  {
   "cell_type": "code",
   "execution_count": 8,
   "metadata": {},
   "outputs": [],
   "source": [
    "# Add a fake column with a chronological order\n",
    "num_repeats = df.shape[0] // 10 \n",
    "df['iteration'] = np.repeat(np.arange(0, 10), num_repeats)"
   ]
  },
  {
   "cell_type": "code",
   "execution_count": 9,
   "metadata": {},
   "outputs": [
    {
     "data": {
      "text/html": [
       "<div>\n",
       "<style scoped>\n",
       "    .dataframe tbody tr th:only-of-type {\n",
       "        vertical-align: middle;\n",
       "    }\n",
       "\n",
       "    .dataframe tbody tr th {\n",
       "        vertical-align: top;\n",
       "    }\n",
       "\n",
       "    .dataframe thead th {\n",
       "        text-align: right;\n",
       "    }\n",
       "</style>\n",
       "<table border=\"1\" class=\"dataframe\">\n",
       "  <thead>\n",
       "    <tr style=\"text-align: right;\">\n",
       "      <th></th>\n",
       "      <th>SMILES</th>\n",
       "      <th>Y1</th>\n",
       "      <th>Y2</th>\n",
       "      <th>Y3</th>\n",
       "      <th>Y4</th>\n",
       "      <th>iteration</th>\n",
       "    </tr>\n",
       "  </thead>\n",
       "  <tbody>\n",
       "    <tr>\n",
       "      <th>0</th>\n",
       "      <td>Oc1cc(O)c2c(c1)OC(c1ccc(O)c(O)c1)C(O)C2</td>\n",
       "      <td>-6.220000</td>\n",
       "      <td>-8.493732</td>\n",
       "      <td>0</td>\n",
       "      <td>2</td>\n",
       "      <td>0</td>\n",
       "    </tr>\n",
       "    <tr>\n",
       "      <th>1</th>\n",
       "      <td>C/C=C\\C#CCC/C=C\\C=C\\C(=O)NCC(C)C</td>\n",
       "      <td>-3.860000</td>\n",
       "      <td>-8.579567</td>\n",
       "      <td>0</td>\n",
       "      <td>2</td>\n",
       "      <td>0</td>\n",
       "    </tr>\n",
       "    <tr>\n",
       "      <th>2</th>\n",
       "      <td>COc1ccc2c3c1O[C@H]1[C@@H](O)C=C[C@H]4[C@@H](C2...</td>\n",
       "      <td>-4.090000</td>\n",
       "      <td>-5.331233</td>\n",
       "      <td>1</td>\n",
       "      <td>1</td>\n",
       "      <td>0</td>\n",
       "    </tr>\n",
       "    <tr>\n",
       "      <th>3</th>\n",
       "      <td>C#C[C@]1(O)CC[C@H]2[C@@H]3CCC4=Cc5oncc5C[C@]4(...</td>\n",
       "      <td>-4.840000</td>\n",
       "      <td>-11.412527</td>\n",
       "      <td>0</td>\n",
       "      <td>1</td>\n",
       "      <td>0</td>\n",
       "    </tr>\n",
       "    <tr>\n",
       "      <th>4</th>\n",
       "      <td>C[C@@H]1C[C@H]2[C@@H]3CCC4=CC(=O)C=C[C@]4(C)[C...</td>\n",
       "      <td>-6.120000</td>\n",
       "      <td>-13.274081</td>\n",
       "      <td>0</td>\n",
       "      <td>4</td>\n",
       "      <td>0</td>\n",
       "    </tr>\n",
       "    <tr>\n",
       "      <th>...</th>\n",
       "      <td>...</td>\n",
       "      <td>...</td>\n",
       "      <td>...</td>\n",
       "      <td>...</td>\n",
       "      <td>...</td>\n",
       "      <td>...</td>\n",
       "    </tr>\n",
       "    <tr>\n",
       "      <th>905</th>\n",
       "      <td>Cc1ccc(NC(=O)c2nscc2NCc2ccncc2)cc1C(F)(F)F</td>\n",
       "      <td>-5.229574</td>\n",
       "      <td>0.001744</td>\n",
       "      <td>1</td>\n",
       "      <td>5</td>\n",
       "      <td>9</td>\n",
       "    </tr>\n",
       "    <tr>\n",
       "      <th>906</th>\n",
       "      <td>Cn1c(N2CCN(CCCN3c4ccccc4Sc4ccc(C(=O)O)cc43)CC2...</td>\n",
       "      <td>-5.000000</td>\n",
       "      <td>-7.058779</td>\n",
       "      <td>1</td>\n",
       "      <td>1</td>\n",
       "      <td>9</td>\n",
       "    </tr>\n",
       "    <tr>\n",
       "      <th>907</th>\n",
       "      <td>Cn1cncc1CN1CC(N(Cc2ccccn2)S(=O)(=O)c2ccccn2)Cc...</td>\n",
       "      <td>-5.797940</td>\n",
       "      <td>-5.022201</td>\n",
       "      <td>1</td>\n",
       "      <td>4</td>\n",
       "      <td>9</td>\n",
       "    </tr>\n",
       "    <tr>\n",
       "      <th>908</th>\n",
       "      <td>COc1cc2ncnc(Nc3ccc(F)c(Cl)c3)c2cc1OCCCN1CCOCC1</td>\n",
       "      <td>-4.480000</td>\n",
       "      <td>-8.244845</td>\n",
       "      <td>0</td>\n",
       "      <td>0</td>\n",
       "      <td>9</td>\n",
       "    </tr>\n",
       "    <tr>\n",
       "      <th>909</th>\n",
       "      <td>O=C(O)c1cc(Cl)ccc1O</td>\n",
       "      <td>-4.980000</td>\n",
       "      <td>-9.583250</td>\n",
       "      <td>0</td>\n",
       "      <td>5</td>\n",
       "      <td>9</td>\n",
       "    </tr>\n",
       "  </tbody>\n",
       "</table>\n",
       "<p>910 rows × 6 columns</p>\n",
       "</div>"
      ],
      "text/plain": [
       "                                                SMILES        Y1         Y2  \\\n",
       "0              Oc1cc(O)c2c(c1)OC(c1ccc(O)c(O)c1)C(O)C2 -6.220000  -8.493732   \n",
       "1                     C/C=C\\C#CCC/C=C\\C=C\\C(=O)NCC(C)C -3.860000  -8.579567   \n",
       "2    COc1ccc2c3c1O[C@H]1[C@@H](O)C=C[C@H]4[C@@H](C2... -4.090000  -5.331233   \n",
       "3    C#C[C@]1(O)CC[C@H]2[C@@H]3CCC4=Cc5oncc5C[C@]4(... -4.840000 -11.412527   \n",
       "4    C[C@@H]1C[C@H]2[C@@H]3CCC4=CC(=O)C=C[C@]4(C)[C... -6.120000 -13.274081   \n",
       "..                                                 ...       ...        ...   \n",
       "905         Cc1ccc(NC(=O)c2nscc2NCc2ccncc2)cc1C(F)(F)F -5.229574   0.001744   \n",
       "906  Cn1c(N2CCN(CCCN3c4ccccc4Sc4ccc(C(=O)O)cc43)CC2... -5.000000  -7.058779   \n",
       "907  Cn1cncc1CN1CC(N(Cc2ccccn2)S(=O)(=O)c2ccccn2)Cc... -5.797940  -5.022201   \n",
       "908     COc1cc2ncnc(Nc3ccc(F)c(Cl)c3)c2cc1OCCCN1CCOCC1 -4.480000  -8.244845   \n",
       "909                                O=C(O)c1cc(Cl)ccc1O -4.980000  -9.583250   \n",
       "\n",
       "     Y3  Y4  iteration  \n",
       "0     0   2          0  \n",
       "1     0   2          0  \n",
       "2     1   1          0  \n",
       "3     0   1          0  \n",
       "4     0   4          0  \n",
       "..   ..  ..        ...  \n",
       "905   1   5          9  \n",
       "906   1   1          9  \n",
       "907   1   4          9  \n",
       "908   0   0          9  \n",
       "909   0   5          9  \n",
       "\n",
       "[910 rows x 6 columns]"
      ]
     },
     "execution_count": 9,
     "metadata": {},
     "output_type": "execute_result"
    }
   ],
   "source": [
    "df"
   ]
  },
  {
   "cell_type": "code",
   "execution_count": 10,
   "metadata": {},
   "outputs": [],
   "source": [
    "for i in range(10):\n",
    "\n",
    "    fig, ax = plt.subplots(1, 1, figsize=(10, 8))\n",
    "    fig.patch.set_facecolor('black')\n",
    "\n",
    "    old_ids = df[df['iteration'] < i].index.tolist()\n",
    "    new_ids = df[(df['iteration'] >= i) & (df['iteration'] < i+1)].index.tolist()\n",
    "    \n",
    "    x_new = x[new_ids]\n",
    "    y_new = y[new_ids]\n",
    "    x_old = x[old_ids]\n",
    "    y_old = y[old_ids]\n",
    "\n",
    "    ax.scatter(x_new, y_new, c='red', s=15, zorder=2)\n",
    "    ax.scatter(x_old, y_old, c='green', s=15, zorder=2)\n",
    "\n",
    "    for edge in edges:\n",
    "        start_node = edge[0]\n",
    "        end_node = edge[1]\n",
    "        ax.plot([x[start_node], x[end_node]], [y[start_node], y[end_node]], c='white', alpha=0.5, linewidth=1, zorder=1)\n",
    "\n",
    "    ax.set_title(f\"Iteration : {i}\", c='white')\n",
    "    ax.axis('off')\n",
    "    plt.tight_layout()\n",
    "    plt.savefig(f\"../img/iteration_{i}.png\", dpi=300)\n",
    "    plt.close()\n",
    "\n"
   ]
  },
  {
   "cell_type": "markdown",
   "metadata": {},
   "source": [
    "### Create video using opencv"
   ]
  },
  {
   "cell_type": "code",
   "execution_count": null,
   "metadata": {},
   "outputs": [],
   "source": [
    "import cv2\n",
    "import glob\n",
    "\n",
    "# Specify the path to your image folder\n",
    "img_folder_path = '../img/*.png' # You may need to modify this depending on where your images are stored\n",
    "output_video = '../img/output.avi' # The path and name of the video file you want to create\n",
    "\n",
    "# Get the list of all files in the directory sorted by name\n",
    "img_files = sorted(glob.glob(img_folder_path))\n",
    "\n",
    "# Assuming that all images are the same size, get the size of the first image\n",
    "img = cv2.imread(img_files[0])\n",
    "height, width, layers = img.shape\n",
    "\n",
    "# Choose the video codec according to the file type you want to output (Here, *.avi)\n",
    "fourcc = cv2.VideoWriter_fourcc(*'DIVX') \n",
    "\n",
    "# Create the video write object\n",
    "video = cv2.VideoWriter(output_video, fourcc, 1.0, (width, height))\n",
    "\n",
    "# Write images to video object\n",
    "for file in img_files:\n",
    "    img = cv2.imread(file)\n",
    "    video.write(img)\n",
    "\n",
    "# Close the video write object\n",
    "video.release()"
   ]
  },
  {
   "cell_type": "code",
   "execution_count": null,
   "metadata": {},
   "outputs": [],
   "source": []
  }
 ],
 "metadata": {
  "kernelspec": {
   "display_name": "py39",
   "language": "python",
   "name": "py39"
  },
  "language_info": {
   "codemirror_mode": {
    "name": "ipython",
    "version": 3
   },
   "file_extension": ".py",
   "mimetype": "text/x-python",
   "name": "python",
   "nbconvert_exporter": "python",
   "pygments_lexer": "ipython3",
   "version": "3.9.16"
  },
  "orig_nbformat": 4
 },
 "nbformat": 4,
 "nbformat_minor": 2
}
